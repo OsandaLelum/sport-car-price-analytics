{
  "nbformat": 4,
  "nbformat_minor": 0,
  "metadata": {
    "colab": {
      "provenance": []
    },
    "kernelspec": {
      "name": "python3",
      "display_name": "Python 3"
    },
    "language_info": {
      "name": "python"
    }
  },
  "cells": [
    {
      "cell_type": "code",
      "source": [
        "!pip install kaggle"
      ],
      "metadata": {
        "colab": {
          "base_uri": "https://localhost:8080/"
        },
        "id": "znJLyePP4IA3",
        "outputId": "2662caca-5ed2-4dbf-abda-434db32a9f83"
      },
      "execution_count": 6,
      "outputs": [
        {
          "output_type": "stream",
          "name": "stdout",
          "text": [
            "Looking in indexes: https://pypi.org/simple, https://us-python.pkg.dev/colab-wheels/public/simple/\n",
            "Requirement already satisfied: kaggle in /usr/local/lib/python3.10/dist-packages (1.5.13)\n",
            "Requirement already satisfied: six>=1.10 in /usr/local/lib/python3.10/dist-packages (from kaggle) (1.16.0)\n",
            "Requirement already satisfied: python-slugify in /usr/local/lib/python3.10/dist-packages (from kaggle) (8.0.1)\n",
            "Requirement already satisfied: python-dateutil in /usr/local/lib/python3.10/dist-packages (from kaggle) (2.8.2)\n",
            "Requirement already satisfied: requests in /usr/local/lib/python3.10/dist-packages (from kaggle) (2.27.1)\n",
            "Requirement already satisfied: tqdm in /usr/local/lib/python3.10/dist-packages (from kaggle) (4.65.0)\n",
            "Requirement already satisfied: certifi in /usr/local/lib/python3.10/dist-packages (from kaggle) (2022.12.7)\n",
            "Requirement already satisfied: urllib3 in /usr/local/lib/python3.10/dist-packages (from kaggle) (1.26.15)\n",
            "Requirement already satisfied: text-unidecode>=1.3 in /usr/local/lib/python3.10/dist-packages (from python-slugify->kaggle) (1.3)\n",
            "Requirement already satisfied: charset-normalizer~=2.0.0 in /usr/local/lib/python3.10/dist-packages (from requests->kaggle) (2.0.12)\n",
            "Requirement already satisfied: idna<4,>=2.5 in /usr/local/lib/python3.10/dist-packages (from requests->kaggle) (3.4)\n"
          ]
        }
      ]
    },
    {
      "cell_type": "code",
      "source": [
        "from google.colab import drive\n",
        "drive.mount('/content/drive')"
      ],
      "metadata": {
        "colab": {
          "base_uri": "https://localhost:8080/"
        },
        "id": "M5FGqkPl5Gq3",
        "outputId": "66be4e38-50d6-4a7d-8f88-3fae00fb7334"
      },
      "execution_count": 16,
      "outputs": [
        {
          "output_type": "stream",
          "name": "stdout",
          "text": [
            "Drive already mounted at /content/drive; to attempt to forcibly remount, call drive.mount(\"/content/drive\", force_remount=True).\n"
          ]
        }
      ]
    },
    {
      "cell_type": "code",
      "source": [
        "mkdir ~/.kaggle"
      ],
      "metadata": {
        "colab": {
          "base_uri": "https://localhost:8080/"
        },
        "id": "lw2uPAee5PHO",
        "outputId": "8ce98183-82a9-49ba-9c16-24a86b8b8096"
      },
      "execution_count": 17,
      "outputs": [
        {
          "output_type": "stream",
          "name": "stdout",
          "text": [
            "mkdir: cannot create directory ‘/root/.kaggle’: File exists\n"
          ]
        }
      ]
    },
    {
      "cell_type": "code",
      "source": [
        "!cp /content/drive/MyDrive/kaggle datasets/kaggle.json ~/.kaggle/kaggle.json"
      ],
      "metadata": {
        "colab": {
          "base_uri": "https://localhost:8080/"
        },
        "id": "OF_3QMhb50Cl",
        "outputId": "5cc45899-b5ae-4301-8c13-c4f225288347"
      },
      "execution_count": 19,
      "outputs": [
        {
          "output_type": "stream",
          "name": "stdout",
          "text": [
            "cp: target '/root/.kaggle/kaggle.json' is not a directory\n"
          ]
        }
      ]
    },
    {
      "cell_type": "code",
      "execution_count": 2,
      "metadata": {
        "id": "MT-WmfF41LRp"
      },
      "outputs": [],
      "source": [
        "import numpy as np\n",
        "import pandas as pd\n",
        "import seaborn as sns\n",
        "import matplotlib as  plt\n",
        "sns.set_theme(color_codes = True)"
      ]
    },
    {
      "cell_type": "code",
      "source": [
        "import os\n",
        "for dirname, _, filenames in os.walk('/kaggle/input'):\n",
        "    for filename in filenames:\n",
        "        print(os.path.join(dirname, filename))"
      ],
      "metadata": {
        "id": "fuK11-fR3dKP"
      },
      "execution_count": 20,
      "outputs": []
    },
    {
      "cell_type": "code",
      "source": [
        "df = pd.read_csv('/content/drive/MyDrive/kaggle datasets/Sport car price.csv')\n",
        "df.head(10)"
      ],
      "metadata": {
        "colab": {
          "base_uri": "https://localhost:8080/",
          "height": 363
        },
        "id": "uIox0CIY3ksB",
        "outputId": "d5704b88-30ce-4de9-a24d-b5121884e898"
      },
      "execution_count": 21,
      "outputs": [
        {
          "output_type": "execute_result",
          "data": {
            "text/plain": [
              "        Car Make             Car Model  Year Engine Size (L) Horsepower  \\\n",
              "0        Porsche                   911  2022               3        379   \n",
              "1    Lamborghini               Huracan  2021             5.2        630   \n",
              "2        Ferrari               488 GTB  2022             3.9        661   \n",
              "3           Audi                    R8  2022             5.2        562   \n",
              "4        McLaren                  720S  2021               4        710   \n",
              "5            BMW                    M8  2022             4.4        617   \n",
              "6  Mercedes-Benz                AMG GT  2021               4        523   \n",
              "7      Chevrolet              Corvette  2021             6.2        490   \n",
              "8           Ford  Mustang Shelby GT500  2022             5.2        760   \n",
              "9         Nissan            GT-R Nismo  2021             3.8        600   \n",
              "\n",
              "  Torque (lb-ft) 0-60 MPH Time (seconds) Price (in USD)  \n",
              "0            331                       4        101,200  \n",
              "1            443                     2.8        274,390  \n",
              "2            561                       3        333,750  \n",
              "3            406                     3.2        142,700  \n",
              "4            568                     2.7        298,000  \n",
              "5            553                     3.1        130,000  \n",
              "6            494                     3.8        118,500  \n",
              "7            465                     2.8         59,900  \n",
              "8            625                     3.5         81,000  \n",
              "9            481                     2.5        212,000  "
            ],
            "text/html": [
              "\n",
              "  <div id=\"df-dd690f6f-671f-4977-841d-07e98c0cc85b\">\n",
              "    <div class=\"colab-df-container\">\n",
              "      <div>\n",
              "<style scoped>\n",
              "    .dataframe tbody tr th:only-of-type {\n",
              "        vertical-align: middle;\n",
              "    }\n",
              "\n",
              "    .dataframe tbody tr th {\n",
              "        vertical-align: top;\n",
              "    }\n",
              "\n",
              "    .dataframe thead th {\n",
              "        text-align: right;\n",
              "    }\n",
              "</style>\n",
              "<table border=\"1\" class=\"dataframe\">\n",
              "  <thead>\n",
              "    <tr style=\"text-align: right;\">\n",
              "      <th></th>\n",
              "      <th>Car Make</th>\n",
              "      <th>Car Model</th>\n",
              "      <th>Year</th>\n",
              "      <th>Engine Size (L)</th>\n",
              "      <th>Horsepower</th>\n",
              "      <th>Torque (lb-ft)</th>\n",
              "      <th>0-60 MPH Time (seconds)</th>\n",
              "      <th>Price (in USD)</th>\n",
              "    </tr>\n",
              "  </thead>\n",
              "  <tbody>\n",
              "    <tr>\n",
              "      <th>0</th>\n",
              "      <td>Porsche</td>\n",
              "      <td>911</td>\n",
              "      <td>2022</td>\n",
              "      <td>3</td>\n",
              "      <td>379</td>\n",
              "      <td>331</td>\n",
              "      <td>4</td>\n",
              "      <td>101,200</td>\n",
              "    </tr>\n",
              "    <tr>\n",
              "      <th>1</th>\n",
              "      <td>Lamborghini</td>\n",
              "      <td>Huracan</td>\n",
              "      <td>2021</td>\n",
              "      <td>5.2</td>\n",
              "      <td>630</td>\n",
              "      <td>443</td>\n",
              "      <td>2.8</td>\n",
              "      <td>274,390</td>\n",
              "    </tr>\n",
              "    <tr>\n",
              "      <th>2</th>\n",
              "      <td>Ferrari</td>\n",
              "      <td>488 GTB</td>\n",
              "      <td>2022</td>\n",
              "      <td>3.9</td>\n",
              "      <td>661</td>\n",
              "      <td>561</td>\n",
              "      <td>3</td>\n",
              "      <td>333,750</td>\n",
              "    </tr>\n",
              "    <tr>\n",
              "      <th>3</th>\n",
              "      <td>Audi</td>\n",
              "      <td>R8</td>\n",
              "      <td>2022</td>\n",
              "      <td>5.2</td>\n",
              "      <td>562</td>\n",
              "      <td>406</td>\n",
              "      <td>3.2</td>\n",
              "      <td>142,700</td>\n",
              "    </tr>\n",
              "    <tr>\n",
              "      <th>4</th>\n",
              "      <td>McLaren</td>\n",
              "      <td>720S</td>\n",
              "      <td>2021</td>\n",
              "      <td>4</td>\n",
              "      <td>710</td>\n",
              "      <td>568</td>\n",
              "      <td>2.7</td>\n",
              "      <td>298,000</td>\n",
              "    </tr>\n",
              "    <tr>\n",
              "      <th>5</th>\n",
              "      <td>BMW</td>\n",
              "      <td>M8</td>\n",
              "      <td>2022</td>\n",
              "      <td>4.4</td>\n",
              "      <td>617</td>\n",
              "      <td>553</td>\n",
              "      <td>3.1</td>\n",
              "      <td>130,000</td>\n",
              "    </tr>\n",
              "    <tr>\n",
              "      <th>6</th>\n",
              "      <td>Mercedes-Benz</td>\n",
              "      <td>AMG GT</td>\n",
              "      <td>2021</td>\n",
              "      <td>4</td>\n",
              "      <td>523</td>\n",
              "      <td>494</td>\n",
              "      <td>3.8</td>\n",
              "      <td>118,500</td>\n",
              "    </tr>\n",
              "    <tr>\n",
              "      <th>7</th>\n",
              "      <td>Chevrolet</td>\n",
              "      <td>Corvette</td>\n",
              "      <td>2021</td>\n",
              "      <td>6.2</td>\n",
              "      <td>490</td>\n",
              "      <td>465</td>\n",
              "      <td>2.8</td>\n",
              "      <td>59,900</td>\n",
              "    </tr>\n",
              "    <tr>\n",
              "      <th>8</th>\n",
              "      <td>Ford</td>\n",
              "      <td>Mustang Shelby GT500</td>\n",
              "      <td>2022</td>\n",
              "      <td>5.2</td>\n",
              "      <td>760</td>\n",
              "      <td>625</td>\n",
              "      <td>3.5</td>\n",
              "      <td>81,000</td>\n",
              "    </tr>\n",
              "    <tr>\n",
              "      <th>9</th>\n",
              "      <td>Nissan</td>\n",
              "      <td>GT-R Nismo</td>\n",
              "      <td>2021</td>\n",
              "      <td>3.8</td>\n",
              "      <td>600</td>\n",
              "      <td>481</td>\n",
              "      <td>2.5</td>\n",
              "      <td>212,000</td>\n",
              "    </tr>\n",
              "  </tbody>\n",
              "</table>\n",
              "</div>\n",
              "      <button class=\"colab-df-convert\" onclick=\"convertToInteractive('df-dd690f6f-671f-4977-841d-07e98c0cc85b')\"\n",
              "              title=\"Convert this dataframe to an interactive table.\"\n",
              "              style=\"display:none;\">\n",
              "        \n",
              "  <svg xmlns=\"http://www.w3.org/2000/svg\" height=\"24px\"viewBox=\"0 0 24 24\"\n",
              "       width=\"24px\">\n",
              "    <path d=\"M0 0h24v24H0V0z\" fill=\"none\"/>\n",
              "    <path d=\"M18.56 5.44l.94 2.06.94-2.06 2.06-.94-2.06-.94-.94-2.06-.94 2.06-2.06.94zm-11 1L8.5 8.5l.94-2.06 2.06-.94-2.06-.94L8.5 2.5l-.94 2.06-2.06.94zm10 10l.94 2.06.94-2.06 2.06-.94-2.06-.94-.94-2.06-.94 2.06-2.06.94z\"/><path d=\"M17.41 7.96l-1.37-1.37c-.4-.4-.92-.59-1.43-.59-.52 0-1.04.2-1.43.59L10.3 9.45l-7.72 7.72c-.78.78-.78 2.05 0 2.83L4 21.41c.39.39.9.59 1.41.59.51 0 1.02-.2 1.41-.59l7.78-7.78 2.81-2.81c.8-.78.8-2.07 0-2.86zM5.41 20L4 18.59l7.72-7.72 1.47 1.35L5.41 20z\"/>\n",
              "  </svg>\n",
              "      </button>\n",
              "      \n",
              "  <style>\n",
              "    .colab-df-container {\n",
              "      display:flex;\n",
              "      flex-wrap:wrap;\n",
              "      gap: 12px;\n",
              "    }\n",
              "\n",
              "    .colab-df-convert {\n",
              "      background-color: #E8F0FE;\n",
              "      border: none;\n",
              "      border-radius: 50%;\n",
              "      cursor: pointer;\n",
              "      display: none;\n",
              "      fill: #1967D2;\n",
              "      height: 32px;\n",
              "      padding: 0 0 0 0;\n",
              "      width: 32px;\n",
              "    }\n",
              "\n",
              "    .colab-df-convert:hover {\n",
              "      background-color: #E2EBFA;\n",
              "      box-shadow: 0px 1px 2px rgba(60, 64, 67, 0.3), 0px 1px 3px 1px rgba(60, 64, 67, 0.15);\n",
              "      fill: #174EA6;\n",
              "    }\n",
              "\n",
              "    [theme=dark] .colab-df-convert {\n",
              "      background-color: #3B4455;\n",
              "      fill: #D2E3FC;\n",
              "    }\n",
              "\n",
              "    [theme=dark] .colab-df-convert:hover {\n",
              "      background-color: #434B5C;\n",
              "      box-shadow: 0px 1px 3px 1px rgba(0, 0, 0, 0.15);\n",
              "      filter: drop-shadow(0px 1px 2px rgba(0, 0, 0, 0.3));\n",
              "      fill: #FFFFFF;\n",
              "    }\n",
              "  </style>\n",
              "\n",
              "      <script>\n",
              "        const buttonEl =\n",
              "          document.querySelector('#df-dd690f6f-671f-4977-841d-07e98c0cc85b button.colab-df-convert');\n",
              "        buttonEl.style.display =\n",
              "          google.colab.kernel.accessAllowed ? 'block' : 'none';\n",
              "\n",
              "        async function convertToInteractive(key) {\n",
              "          const element = document.querySelector('#df-dd690f6f-671f-4977-841d-07e98c0cc85b');\n",
              "          const dataTable =\n",
              "            await google.colab.kernel.invokeFunction('convertToInteractive',\n",
              "                                                     [key], {});\n",
              "          if (!dataTable) return;\n",
              "\n",
              "          const docLinkHtml = 'Like what you see? Visit the ' +\n",
              "            '<a target=\"_blank\" href=https://colab.research.google.com/notebooks/data_table.ipynb>data table notebook</a>'\n",
              "            + ' to learn more about interactive tables.';\n",
              "          element.innerHTML = '';\n",
              "          dataTable['output_type'] = 'display_data';\n",
              "          await google.colab.output.renderOutput(dataTable, element);\n",
              "          const docLink = document.createElement('div');\n",
              "          docLink.innerHTML = docLinkHtml;\n",
              "          element.appendChild(docLink);\n",
              "        }\n",
              "      </script>\n",
              "    </div>\n",
              "  </div>\n",
              "  "
            ]
          },
          "metadata": {},
          "execution_count": 21
        }
      ]
    },
    {
      "cell_type": "code",
      "source": [
        "df.select_dtypes(include='object').nunique()"
      ],
      "metadata": {
        "colab": {
          "base_uri": "https://localhost:8080/"
        },
        "id": "odzvspSTA_tr",
        "outputId": "51be7f93-67b9-4b2d-f281-a06ae87fceae"
      },
      "execution_count": 22,
      "outputs": [
        {
          "output_type": "execute_result",
          "data": {
            "text/plain": [
              "Car Make                    38\n",
              "Car Model                  176\n",
              "Engine Size (L)             45\n",
              "Horsepower                 124\n",
              "Torque (lb-ft)              93\n",
              "0-60 MPH Time (seconds)     43\n",
              "Price (in USD)             367\n",
              "dtype: int64"
            ]
          },
          "metadata": {},
          "execution_count": 22
        }
      ]
    },
    {
      "cell_type": "code",
      "source": [
        "df['Price (in USD)'].dtypes"
      ],
      "metadata": {
        "colab": {
          "base_uri": "https://localhost:8080/"
        },
        "id": "HH2gwxnsDhmm",
        "outputId": "ef83639e-de78-4154-bd73-51c3d7129e01"
      },
      "execution_count": 23,
      "outputs": [
        {
          "output_type": "execute_result",
          "data": {
            "text/plain": [
              "dtype('O')"
            ]
          },
          "metadata": {},
          "execution_count": 23
        }
      ]
    },
    {
      "cell_type": "code",
      "source": [
        "df['Price (in USD)'] = df['Price (in USD)'].str.replace(',', '')\n",
        "df['Price (in USD)'] = df['Price (in USD)'].astype(int)\n",
        "df['Price (in USD)'].dtypes"
      ],
      "metadata": {
        "colab": {
          "base_uri": "https://localhost:8080/"
        },
        "id": "wxjT31IjDn-i",
        "outputId": "aeb391d5-9051-4117-a955-9d26df0c3ba6"
      },
      "execution_count": 24,
      "outputs": [
        {
          "output_type": "execute_result",
          "data": {
            "text/plain": [
              "dtype('int64')"
            ]
          },
          "metadata": {},
          "execution_count": 24
        }
      ]
    },
    {
      "cell_type": "code",
      "source": [
        "df.dtypes"
      ],
      "metadata": {
        "colab": {
          "base_uri": "https://localhost:8080/"
        },
        "id": "cN8s5Gh2D6Yy",
        "outputId": "1dbf480b-ca5e-46a4-de9b-f82c3f07d3a2"
      },
      "execution_count": 25,
      "outputs": [
        {
          "output_type": "execute_result",
          "data": {
            "text/plain": [
              "Car Make                   object\n",
              "Car Model                  object\n",
              "Year                        int64\n",
              "Engine Size (L)            object\n",
              "Horsepower                 object\n",
              "Torque (lb-ft)             object\n",
              "0-60 MPH Time (seconds)    object\n",
              "Price (in USD)              int64\n",
              "dtype: object"
            ]
          },
          "metadata": {},
          "execution_count": 25
        }
      ]
    },
    {
      "cell_type": "code",
      "source": [
        "#Change numerical data into integer\n",
        "df['0-60 MPH Time (seconds)'] = df['0-60 MPH Time (seconds)'].str.replace(',', '')\n",
        "\n"
      ],
      "metadata": {
        "id": "r-MLmrzvD-l4"
      },
      "execution_count": 26,
      "outputs": []
    },
    {
      "cell_type": "code",
      "source": [],
      "metadata": {
        "id": "MzhEiHCYFpOb"
      },
      "execution_count": null,
      "outputs": []
    },
    {
      "cell_type": "code",
      "execution_count": 30,
      "metadata": {
        "id": "c0a4b0ee",
        "outputId": "1c2f7dec-1951-4796-adea-94371f12c857",
        "colab": {
          "base_uri": "https://localhost:8080/"
        }
      },
      "outputs": [
        {
          "output_type": "execute_result",
          "data": {
            "text/plain": [
              "Car Make                    object\n",
              "Car Model                   object\n",
              "Year                         int64\n",
              "Engine Size (L)             object\n",
              "Horsepower                   int64\n",
              "Torque (lb-ft)               int64\n",
              "0-60 MPH Time (seconds)    float64\n",
              "Price (in USD)               int64\n",
              "dtype: object"
            ]
          },
          "metadata": {},
          "execution_count": 30
        }
      ],
      "source": [
        "if df['Horsepower'].dtype == 'object':\n",
        "    df['Horsepower'] = df['Horsepower'].str.replace('[^0-9]+', '', regex=True)\n",
        "    df['Horsepower'] = df['Horsepower'].apply(lambda x: int(x) if x != '' else 0)\n",
        "else:\n",
        "    pass\n",
        "\n",
        "if df['Torque (lb-ft)'].dtype == 'object':\n",
        "    df['Torque (lb-ft)'] = df['Torque (lb-ft)'].str.replace('[^0-9]+', '', regex=True)\n",
        "    df['Torque (lb-ft)'] = df['Torque (lb-ft)'].fillna(0)\n",
        "    df['Torque (lb-ft)'] = df['Torque (lb-ft)'].apply(lambda x: int(x) if x != '' else 0)\n",
        "else:\n",
        "    pass\n",
        "\n",
        "if df['0-60 MPH Time (seconds)'].dtype == 'object':\n",
        "    df['0-60 MPH Time (seconds)'] = df['0-60 MPH Time (seconds)'].str.replace('[^0-9]+', '', regex=True)\n",
        "    df['0-60 MPH Time (seconds)'] = df['0-60 MPH Time (seconds)'].apply(lambda x: int(x) if x != '' else 0)\n",
        "else:\n",
        "    pass\n",
        "\n",
        "df['Horsepower'] = df['Horsepower'].astype(int)\n",
        "df['Torque (lb-ft)'] = df['Torque (lb-ft)'].astype(int)\n",
        "df['0-60 MPH Time (seconds)'] = df['0-60 MPH Time (seconds)'].astype(float)\n",
        "\n",
        "\n",
        "df.dtypes"
      ]
    },
    {
      "cell_type": "code",
      "source": [
        "df['Engine Size (L)'].unique()"
      ],
      "metadata": {
        "colab": {
          "base_uri": "https://localhost:8080/"
        },
        "id": "sACosTr6Fqww",
        "outputId": "a8667a78-9f1d-4cdf-f50a-f05d4925fcee"
      },
      "execution_count": 31,
      "outputs": [
        {
          "output_type": "execute_result",
          "data": {
            "text/plain": [
              "array(['3', '5.2', '3.9', '4', '4.4', '6.2', '3.8', '8', '5', '3.5',\n",
              "       '4.7', '2', '2.9', '6', 'Electric', '6.5', '3.7', 'Electric Motor',\n",
              "       '2.5', '1.5 + Electric', '6.8', '8.4', nan, '6.6', '7', '1.7',\n",
              "       '3.3', '-', '6.7', '1.8', 'Electric (tri-motor)', '5.5',\n",
              "       'Electric (93 kWh)', 'Electric (100 kWh)', 'Hybrid (4.0)', '4.6',\n",
              "       '3.6', '1.5', 'Hybrid', '5.7', '2.0 (Electric)', '4.0 (Hybrid)',\n",
              "       '0', '6.4', '6.3', '2.3'], dtype=object)"
            ]
          },
          "metadata": {},
          "execution_count": 31
        }
      ]
    },
    {
      "cell_type": "code",
      "source": [
        "def segment_engine_size(engine_size):\n",
        "    if engine_size in ['Electric', 'Hybrid']:\n",
        "        return 'Electric/Hybrid'\n",
        "    elif engine_size in ['Electric Motor', 'Electric (tri-motor)', 'Electric (93 kWh)', 'Electric (100 kWh)', '2.0 (Electric)']:\n",
        "        return 'Electric'\n",
        "    elif engine_size == '1.5 + Electric':\n",
        "        return '1.5 Hybrid'\n",
        "    elif engine_size in ['Hybrid (4.0)', '4.0 (Hybrid)']:\n",
        "        return '4.0 Hybrid'\n",
        "    elif engine_size == '0':\n",
        "        return 'Unknown'\n",
        "    elif engine_size == '-':\n",
        "        return 'Unknown'\n",
        "    elif float(engine_size) < 2:\n",
        "        return 'Small'\n",
        "    elif float(engine_size) < 3:\n",
        "        return 'Medium'\n",
        "    else:\n",
        "        return 'Large'\n",
        "df['Engine Size (L)'] = df['Engine Size (L)'].apply(segment_engine_size)"
      ],
      "metadata": {
        "id": "rwBroBQZFxPC"
      },
      "execution_count": 32,
      "outputs": []
    },
    {
      "cell_type": "code",
      "source": [
        "df['Engine Size (L)'].unique()"
      ],
      "metadata": {
        "colab": {
          "base_uri": "https://localhost:8080/"
        },
        "id": "T4a_sPbvGAzz",
        "outputId": "54249fcc-0adb-4111-8452-feabf658a6d2"
      },
      "execution_count": 33,
      "outputs": [
        {
          "output_type": "execute_result",
          "data": {
            "text/plain": [
              "array(['Large', 'Medium', 'Electric/Hybrid', 'Electric', '1.5 Hybrid',\n",
              "       'Small', 'Unknown', '4.0 Hybrid'], dtype=object)"
            ]
          },
          "metadata": {},
          "execution_count": 33
        }
      ]
    },
    {
      "cell_type": "code",
      "execution_count": 38,
      "metadata": {
        "id": "b0b7e3f5",
        "outputId": "c14ecf46-17ab-4ce0-9173-d78c9b00e1de",
        "colab": {
          "base_uri": "https://localhost:8080/",
          "height": 206
        }
      },
      "outputs": [
        {
          "output_type": "execute_result",
          "data": {
            "text/plain": [
              "      Car Make  Year Engine Size (L)  Horsepower  Torque (lb-ft)  \\\n",
              "0      Porsche  2022           Large         379             331   \n",
              "1  Lamborghini  2021           Large         630             443   \n",
              "2      Ferrari  2022           Large         661             561   \n",
              "3         Audi  2022           Large         562             406   \n",
              "4      McLaren  2021           Large         710             568   \n",
              "\n",
              "   0-60 MPH Time (seconds)  Price (in USD)  \n",
              "0                      4.0          101200  \n",
              "1                     28.0          274390  \n",
              "2                      3.0          333750  \n",
              "3                     32.0          142700  \n",
              "4                     27.0          298000  "
            ],
            "text/html": [
              "\n",
              "  <div id=\"df-264d485d-3988-4100-bb75-d404a1492863\">\n",
              "    <div class=\"colab-df-container\">\n",
              "      <div>\n",
              "<style scoped>\n",
              "    .dataframe tbody tr th:only-of-type {\n",
              "        vertical-align: middle;\n",
              "    }\n",
              "\n",
              "    .dataframe tbody tr th {\n",
              "        vertical-align: top;\n",
              "    }\n",
              "\n",
              "    .dataframe thead th {\n",
              "        text-align: right;\n",
              "    }\n",
              "</style>\n",
              "<table border=\"1\" class=\"dataframe\">\n",
              "  <thead>\n",
              "    <tr style=\"text-align: right;\">\n",
              "      <th></th>\n",
              "      <th>Car Make</th>\n",
              "      <th>Year</th>\n",
              "      <th>Engine Size (L)</th>\n",
              "      <th>Horsepower</th>\n",
              "      <th>Torque (lb-ft)</th>\n",
              "      <th>0-60 MPH Time (seconds)</th>\n",
              "      <th>Price (in USD)</th>\n",
              "    </tr>\n",
              "  </thead>\n",
              "  <tbody>\n",
              "    <tr>\n",
              "      <th>0</th>\n",
              "      <td>Porsche</td>\n",
              "      <td>2022</td>\n",
              "      <td>Large</td>\n",
              "      <td>379</td>\n",
              "      <td>331</td>\n",
              "      <td>4.0</td>\n",
              "      <td>101200</td>\n",
              "    </tr>\n",
              "    <tr>\n",
              "      <th>1</th>\n",
              "      <td>Lamborghini</td>\n",
              "      <td>2021</td>\n",
              "      <td>Large</td>\n",
              "      <td>630</td>\n",
              "      <td>443</td>\n",
              "      <td>28.0</td>\n",
              "      <td>274390</td>\n",
              "    </tr>\n",
              "    <tr>\n",
              "      <th>2</th>\n",
              "      <td>Ferrari</td>\n",
              "      <td>2022</td>\n",
              "      <td>Large</td>\n",
              "      <td>661</td>\n",
              "      <td>561</td>\n",
              "      <td>3.0</td>\n",
              "      <td>333750</td>\n",
              "    </tr>\n",
              "    <tr>\n",
              "      <th>3</th>\n",
              "      <td>Audi</td>\n",
              "      <td>2022</td>\n",
              "      <td>Large</td>\n",
              "      <td>562</td>\n",
              "      <td>406</td>\n",
              "      <td>32.0</td>\n",
              "      <td>142700</td>\n",
              "    </tr>\n",
              "    <tr>\n",
              "      <th>4</th>\n",
              "      <td>McLaren</td>\n",
              "      <td>2021</td>\n",
              "      <td>Large</td>\n",
              "      <td>710</td>\n",
              "      <td>568</td>\n",
              "      <td>27.0</td>\n",
              "      <td>298000</td>\n",
              "    </tr>\n",
              "  </tbody>\n",
              "</table>\n",
              "</div>\n",
              "      <button class=\"colab-df-convert\" onclick=\"convertToInteractive('df-264d485d-3988-4100-bb75-d404a1492863')\"\n",
              "              title=\"Convert this dataframe to an interactive table.\"\n",
              "              style=\"display:none;\">\n",
              "        \n",
              "  <svg xmlns=\"http://www.w3.org/2000/svg\" height=\"24px\"viewBox=\"0 0 24 24\"\n",
              "       width=\"24px\">\n",
              "    <path d=\"M0 0h24v24H0V0z\" fill=\"none\"/>\n",
              "    <path d=\"M18.56 5.44l.94 2.06.94-2.06 2.06-.94-2.06-.94-.94-2.06-.94 2.06-2.06.94zm-11 1L8.5 8.5l.94-2.06 2.06-.94-2.06-.94L8.5 2.5l-.94 2.06-2.06.94zm10 10l.94 2.06.94-2.06 2.06-.94-2.06-.94-.94-2.06-.94 2.06-2.06.94z\"/><path d=\"M17.41 7.96l-1.37-1.37c-.4-.4-.92-.59-1.43-.59-.52 0-1.04.2-1.43.59L10.3 9.45l-7.72 7.72c-.78.78-.78 2.05 0 2.83L4 21.41c.39.39.9.59 1.41.59.51 0 1.02-.2 1.41-.59l7.78-7.78 2.81-2.81c.8-.78.8-2.07 0-2.86zM5.41 20L4 18.59l7.72-7.72 1.47 1.35L5.41 20z\"/>\n",
              "  </svg>\n",
              "      </button>\n",
              "      \n",
              "  <style>\n",
              "    .colab-df-container {\n",
              "      display:flex;\n",
              "      flex-wrap:wrap;\n",
              "      gap: 12px;\n",
              "    }\n",
              "\n",
              "    .colab-df-convert {\n",
              "      background-color: #E8F0FE;\n",
              "      border: none;\n",
              "      border-radius: 50%;\n",
              "      cursor: pointer;\n",
              "      display: none;\n",
              "      fill: #1967D2;\n",
              "      height: 32px;\n",
              "      padding: 0 0 0 0;\n",
              "      width: 32px;\n",
              "    }\n",
              "\n",
              "    .colab-df-convert:hover {\n",
              "      background-color: #E2EBFA;\n",
              "      box-shadow: 0px 1px 2px rgba(60, 64, 67, 0.3), 0px 1px 3px 1px rgba(60, 64, 67, 0.15);\n",
              "      fill: #174EA6;\n",
              "    }\n",
              "\n",
              "    [theme=dark] .colab-df-convert {\n",
              "      background-color: #3B4455;\n",
              "      fill: #D2E3FC;\n",
              "    }\n",
              "\n",
              "    [theme=dark] .colab-df-convert:hover {\n",
              "      background-color: #434B5C;\n",
              "      box-shadow: 0px 1px 3px 1px rgba(0, 0, 0, 0.15);\n",
              "      filter: drop-shadow(0px 1px 2px rgba(0, 0, 0, 0.3));\n",
              "      fill: #FFFFFF;\n",
              "    }\n",
              "  </style>\n",
              "\n",
              "      <script>\n",
              "        const buttonEl =\n",
              "          document.querySelector('#df-264d485d-3988-4100-bb75-d404a1492863 button.colab-df-convert');\n",
              "        buttonEl.style.display =\n",
              "          google.colab.kernel.accessAllowed ? 'block' : 'none';\n",
              "\n",
              "        async function convertToInteractive(key) {\n",
              "          const element = document.querySelector('#df-264d485d-3988-4100-bb75-d404a1492863');\n",
              "          const dataTable =\n",
              "            await google.colab.kernel.invokeFunction('convertToInteractive',\n",
              "                                                     [key], {});\n",
              "          if (!dataTable) return;\n",
              "\n",
              "          const docLinkHtml = 'Like what you see? Visit the ' +\n",
              "            '<a target=\"_blank\" href=https://colab.research.google.com/notebooks/data_table.ipynb>data table notebook</a>'\n",
              "            + ' to learn more about interactive tables.';\n",
              "          element.innerHTML = '';\n",
              "          dataTable['output_type'] = 'display_data';\n",
              "          await google.colab.output.renderOutput(dataTable, element);\n",
              "          const docLink = document.createElement('div');\n",
              "          docLink.innerHTML = docLinkHtml;\n",
              "          element.appendChild(docLink);\n",
              "        }\n",
              "      </script>\n",
              "    </div>\n",
              "  </div>\n",
              "  "
            ]
          },
          "metadata": {},
          "execution_count": 38
        }
      ],
      "source": [
        "df.drop(columns='Car Model', inplace=True)\n",
        "df.head()"
      ]
    },
    {
      "cell_type": "code",
      "source": [],
      "metadata": {
        "id": "8opAWyEeG-zw"
      },
      "execution_count": null,
      "outputs": []
    },
    {
      "cell_type": "code",
      "source": [
        "import matplotlib.pyplot as plt\n",
        "\n",
        "plt.figure(figsize=(10,5))\n",
        "df['Engine Size (L)'].value_counts().plot(kind='pie')\n",
        "plt.show()\n"
      ],
      "metadata": {
        "colab": {
          "base_uri": "https://localhost:8080/",
          "height": 422
        },
        "id": "Q67Wj_doGbSp",
        "outputId": "916acec5-e87c-4ce8-dd6f-aa5839c3099c"
      },
      "execution_count": 37,
      "outputs": [
        {
          "output_type": "display_data",
          "data": {
            "text/plain": [
              "<Figure size 1000x500 with 1 Axes>"
            ],
            "image/png": "[encoded data removed]"
          },
          "metadata": {}
        }
      ]
    },
    {
      "cell_type": "code",
      "source": [
        "df['Car Make'].unique()"
      ],
      "metadata": {
        "colab": {
          "base_uri": "https://localhost:8080/"
        },
        "id": "6yZmbyvHGtLx",
        "outputId": "30a7719e-b13b-4e45-c06e-a88a98d1ce3d"
      },
      "execution_count": 39,
      "outputs": [
        {
          "output_type": "execute_result",
          "data": {
            "text/plain": [
              "array(['Porsche', 'Lamborghini', 'Ferrari', 'Audi', 'McLaren', 'BMW',\n",
              "       'Mercedes-Benz', 'Chevrolet', 'Ford', 'Nissan', 'Aston Martin',\n",
              "       'Bugatti', 'Dodge', 'Jaguar', 'Koenigsegg', 'Lexus', 'Lotus',\n",
              "       'Maserati', 'Alfa Romeo', 'Ariel', 'Bentley', 'Mercedes-AMG',\n",
              "       'Pagani', 'Polestar', 'Rimac', 'Acura', 'Mazda', 'Rolls-Royce',\n",
              "       'Tesla', 'Toyota', 'W Motors', 'Shelby', 'TVR', 'Subaru',\n",
              "       'Pininfarina', 'Kia', 'Alpine', 'Ultima'], dtype=object)"
            ]
          },
          "metadata": {},
          "execution_count": 39
        }
      ]
    },
    {
      "cell_type": "code",
      "source": [],
      "metadata": {
        "id": "o47SFR6DHGHY"
      },
      "execution_count": null,
      "outputs": []
    },
    {
      "cell_type": "code",
      "execution_count": 40,
      "metadata": {
        "id": "054f36a6"
      },
      "outputs": [],
      "source": [
        "def segment_car_make(value):\n",
        "    if value in ['Porsche', 'Lamborghini', 'Ferrari', 'McLaren', 'Aston Martin', 'Bugatti', 'Koenigsegg', 'Lotus', 'Maserati', 'Alfa Romeo', 'Bentley', 'Mercedes-AMG', 'Pagani', 'Pininfarina']:\n",
        "        return 'Luxury'\n",
        "    elif value in ['Audi', 'BMW', 'Mercedes-Benz', 'Chevrolet', 'Ford', 'Nissan', 'Dodge', 'Jaguar', 'Lexus', 'Mazda', 'Rolls-Royce', 'Tesla', 'Toyota', 'Kia']:\n",
        "        return 'Mainstream'\n",
        "    elif value in ['Ariel', 'W Motors', 'Shelby', 'TVR', 'Subaru', 'Alpine', 'Ultima']:\n",
        "        return 'Specialty'\n",
        "    else:\n",
        "        return 'Other'\n",
        "\n",
        "df['Car Make'] = df['Car Make'].apply(segment_car_make)"
      ]
    },
    {
      "cell_type": "code",
      "source": [
        "df['Car Make'].unique()"
      ],
      "metadata": {
        "colab": {
          "base_uri": "https://localhost:8080/"
        },
        "id": "jWoqWhiIHL8Y",
        "outputId": "d138c00f-ceed-4089-9822-cbfef95f1369"
      },
      "execution_count": 41,
      "outputs": [
        {
          "output_type": "execute_result",
          "data": {
            "text/plain": [
              "array(['Luxury', 'Mainstream', 'Specialty', 'Other'], dtype=object)"
            ]
          },
          "metadata": {},
          "execution_count": 41
        }
      ]
    },
    {
      "cell_type": "code",
      "source": [],
      "metadata": {
        "id": "ccmMYvYNHRih"
      },
      "execution_count": null,
      "outputs": []
    },
    {
      "cell_type": "code",
      "source": [
        "import matplotlib.pyplot as plt\n",
        "\n",
        "plt.figure(figsize=(10,5))\n",
        "df['Car Make'].value_counts().plot(kind='pie')\n",
        "plt.show()\n"
      ],
      "metadata": {
        "colab": {
          "base_uri": "https://localhost:8080/",
          "height": 422
        },
        "outputId": "444aa789-affe-48e5-daa8-5dd1bb8f6cb5",
        "id": "59E4GplzHS5v"
      },
      "execution_count": 42,
      "outputs": [
        {
          "output_type": "display_data",
          "data": {
            "text/plain": [
              "<Figure size 1000x500 with 1 Axes>"
            ],
            "image/png": "[encoded data removed]"
          },
          "metadata": {}
        }
      ]
    }
  ]
}